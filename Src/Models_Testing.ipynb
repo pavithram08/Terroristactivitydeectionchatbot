{
  "cells": [
    {
      "cell_type": "code",
      "source": [
        "pip install keras_preprocessing"
      ],
      "metadata": {
        "colab": {
          "base_uri": "https://localhost:8080/"
        },
        "id": "tNblbWHc8Mea",
        "outputId": "63b658a3-8166-4929-81f4-636c6f940cab"
      },
      "execution_count": 11,
      "outputs": [
        {
          "output_type": "stream",
          "name": "stdout",
          "text": [
            "Looking in indexes: https://pypi.org/simple, https://us-python.pkg.dev/colab-wheels/public/simple/\n",
            "Requirement already satisfied: keras_preprocessing in /usr/local/lib/python3.9/dist-packages (1.1.2)\n",
            "Requirement already satisfied: numpy>=1.9.1 in /usr/local/lib/python3.9/dist-packages (from keras_preprocessing) (1.22.4)\n",
            "Requirement already satisfied: six>=1.9.0 in /usr/local/lib/python3.9/dist-packages (from keras_preprocessing) (1.16.0)\n"
          ]
        }
      ]
    },
    {
      "cell_type": "code",
      "execution_count": 12,
      "metadata": {
        "id": "zvqowXoJ4K7N"
      },
      "outputs": [],
      "source": [
        "import preprocess_text\n",
        "import tensorflow as tf\n",
        "from tensorflow.keras.preprocessing.sequence import pad_sequences\n",
        "from tensorflow.keras.preprocessing.text import Tokenizer\n",
        "from tensorflow.keras.models import load_model\n",
        "import pickle"
      ]
    },
    {
      "cell_type": "code",
      "execution_count": 13,
      "metadata": {
        "id": "1e5gc9q-4K7R"
      },
      "outputs": [],
      "source": [
        "tf_idf = pickle.load(open('/content/tfidf_tokenizer.pkl','rb'))\n",
        "rf_model = pickle.load(open('/content/random_forest.pkl','rb'))"
      ]
    },
    {
      "cell_type": "code",
      "execution_count": 14,
      "metadata": {
        "id": "rUI4jHF44K7S"
      },
      "outputs": [],
      "source": [
        "tokenizer = pickle.load(open('/content/tfidf_tokenizer.pkl','rb'))\n",
        "model = load_model('/content/lstm.h5',compile=False)"
      ]
    },
    {
      "cell_type": "code",
      "execution_count": 15,
      "metadata": {
        "id": "0H3SSW_x4K7S"
      },
      "outputs": [],
      "source": [
        "def predict_ml(text):\n",
        "    new_text = preprocess_text.clean_text(text)\n",
        "    vec = tf_idf.transform([new_text])\n",
        "    res = rf_model.predict(vec)\n",
        "    return res "
      ]
    },
    {
      "cell_type": "code",
      "execution_count": 16,
      "metadata": {
        "id": "254P2UFF4K7T"
      },
      "outputs": [],
      "source": [
        "def predict_dl(text):\n",
        "    new_text = preprocess_text.clean_text(text)\n",
        "    vectorized_text = tfidf.transform([new_text])\n",
        "    padded_sequence = pad_sequences(vectorized_text.toarray(), padding='post', maxlen=max_length)\n",
        "    res = model.predict(padded_sequence)\n",
        "    return res[0]\n"
      ]
    },
    {
      "cell_type": "code",
      "source": [
        "import nltk\n",
        "nltk.download('wordnet')"
      ],
      "metadata": {
        "colab": {
          "base_uri": "https://localhost:8080/"
        },
        "id": "gBayGk856BI2",
        "outputId": "90efd872-47db-4fde-90ea-297a265773e4"
      },
      "execution_count": 17,
      "outputs": [
        {
          "output_type": "stream",
          "name": "stderr",
          "text": [
            "[nltk_data] Downloading package wordnet to /root/nltk_data...\n",
            "[nltk_data]   Package wordnet is already up-to-date!\n"
          ]
        },
        {
          "output_type": "execute_result",
          "data": {
            "text/plain": [
              "True"
            ]
          },
          "metadata": {},
          "execution_count": 17
        }
      ]
    },
    {
      "cell_type": "code",
      "source": [
        "from keras.preprocessing import sequence"
      ],
      "metadata": {
        "id": "mjNnSz4M8jbE"
      },
      "execution_count": 18,
      "outputs": []
    },
    {
      "cell_type": "code",
      "source": [
        "import pickle\n",
        "from sklearn.feature_extraction.text import TfidfVectorizer"
      ],
      "metadata": {
        "id": "EIBXrs0o6_fS"
      },
      "execution_count": 19,
      "outputs": []
    },
    {
      "cell_type": "code",
      "source": [
        "import pickle\n",
        "from sklearn.feature_extraction.text import TfidfVectorizer\n",
        "# from keras_preprocessing.sequence import pad_sequences\n",
        "from tensorflow.keras.preprocessing.sequence import pad_sequences\n",
        "# Load your pre-trained TfidfVectorizer from pickle file\n",
        "with open('tfidf_tokenizer.pkl', 'rb') as f:\n",
        "    tfidf = pickle.load(f)\n",
        "\n",
        "# Example raw text to predict on\n",
        "raw_text = 'Unknown perpetrators detonated a bomb'\n",
        "\n",
        "# Vectorize raw text using the pre-trained TfidfVectorizer\n",
        "vectorized_text = tfidf.transform([raw_text])\n",
        "\n",
        "# Define the maximum length of your input sequence\n",
        "max_length = 100\n",
        "\n",
        "# Check the length of the sparse matrix using its 'shape' attribute\n",
        "length = vectorized_text.shape[1]\n",
        "\n",
        "# Pad the vectorized text to have the same length as your model's input\n",
        "padded_sequence = pad_sequences(vectorized_text.toarray(), padding='post', maxlen=max_length)\n",
        "\n",
        "# Make the prediction using your pre-trained model\n",
        "prediction = model.predict(padded_sequence)\n",
        "\n",
        "# Print the predicted value\n",
        "print(prediction)"
      ],
      "metadata": {
        "colab": {
          "base_uri": "https://localhost:8080/"
        },
        "id": "8cmZUURH70AZ",
        "outputId": "c9ef4901-c7b5-473a-a8ca-b3fd6a10c4af"
      },
      "execution_count": 20,
      "outputs": [
        {
          "output_type": "stream",
          "name": "stdout",
          "text": [
            "1/1 [==============================] - 2s 2s/step\n",
            "[[0.84719604]]\n"
          ]
        }
      ]
    },
    {
      "cell_type": "code",
      "execution_count": 24,
      "metadata": {
        "scrolled": false,
        "colab": {
          "base_uri": "https://localhost:8080/"
        },
        "id": "yG4nyL-k4K7T",
        "outputId": "b84a02bb-42f3-44a6-bb42-23cfb71917ff"
      },
      "outputs": [
        {
          "output_type": "stream",
          "name": "stdout",
          "text": [
            "1/1 [==============================] - 0s 45ms/step\n",
            " Unknown perpetrators detonated a bomb :True\n",
            "1/1 [==============================] - 0s 42ms/step\n",
            "Terrorist placed an explosive device in the vicinity :True\n",
            "1/1 [==============================] - 0s 39ms/step\n",
            "My favorite place is bed :True\n",
            "1/1 [==============================] - 0s 47ms/step\n",
            "This is a good movie :True\n",
            "\n",
            " \n",
            "\n",
            " Unknown perpetrators detonated a bomb :1\n",
            "Terrorist placed an explosive device in the vicinity :1\n",
            "My favorite place is bed :1\n",
            "This is a good movie :0\n"
          ]
        }
      ],
      "source": [
        "text = [' Unknown perpetrators detonated a bomb', 'Terrorist placed an explosive device in the vicinity',\n",
        "        'My favorite place is bed', 'This is a good movie']\n",
        "\n",
        "for t in text:\n",
        "    res = predict_dl(t)\n",
        "    res = res > 0.5\n",
        "    print(\"{} :{}\".format(t, res[0]))\n",
        "\n",
        "print(\"\\n \\n\")\n",
        "\n",
        "\n",
        "for t in text:\n",
        "    res = predict_ml(t)\n",
        "    print(\"{} :{}\".format(t, res[0]))"
      ]
    }
  ],
  "metadata": {
    "kernelspec": {
      "display_name": "Python 3",
      "language": "python",
      "name": "python3"
    },
    "language_info": {
      "codemirror_mode": {
        "name": "ipython",
        "version": 3
      },
      "file_extension": ".py",
      "mimetype": "text/x-python",
      "name": "python",
      "nbconvert_exporter": "python",
      "pygments_lexer": "ipython3",
      "version": "3.7.4"
    },
    "colab": {
      "provenance": []
    }
  },
  "nbformat": 4,
  "nbformat_minor": 0
}